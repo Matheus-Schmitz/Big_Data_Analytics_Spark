{
 "cells": [
  {
   "cell_type": "markdown",
   "metadata": {},
   "source": [
    "# Big Data Analytics with Spark"
   ]
  },
  {
   "cell_type": "markdown",
   "metadata": {},
   "source": [
    "<p>Matheus Schmitz</p>\n",
    "<p><a href=\"https://www.linkedin.com/in/matheusschmitz/\">LinkedIn</a></p>\n",
    "<p><a href=\"https://matheus-schmitz.github.io/\">Github Portfolio</a></p>"
   ]
  },
  {
   "cell_type": "markdown",
   "metadata": {},
   "source": [
    "## Problem Statement"
   ]
  },
  {
   "cell_type": "markdown",
   "metadata": {},
   "source": [
    "This project aims to explore a bicycle bike rental dataset through usage of \"big data\" frameworks such as Spark. \n",
    "\n",
    "There are five business questions which need to be answered through data exploration, manipulation, filtering and so forth.\n",
    "\n",
    "Business questions:\n",
    "\n",
    "1. What are the top 5 stations with the most bicycles rented?\n",
    "2. Whare are the top 5 routes based on initial and final stations, and their respective average bicycle rental durations?\n",
    "3. Who rents the most bicycles, men or women? For how long does each group rent bicycles?\n",
    "4. Which age group rents the most bicycles? For how long does each group rent bicycles?\n",
    "5. What are the most rented bicycles?"
   ]
  },
  {
   "cell_type": "markdown",
   "metadata": {},
   "source": [
    "## Imports"
   ]
  },
  {
   "cell_type": "code",
   "execution_count": 1,
   "metadata": {},
   "outputs": [],
   "source": [
    "# Imports\n",
    "import time\n",
    "import argparse\n",
    "import pyspark\n",
    "import numpy as np \n",
    "import pandas as pd\n",
    "import datetime as dt\n",
    "from pathlib import Path\n",
    "from pyspark import SparkContext\n",
    "from pyspark.sql.session import SparkSession"
   ]
  },
  {
   "cell_type": "markdown",
   "metadata": {},
   "source": [
    "## Spark Initialization"
   ]
  },
  {
   "cell_type": "code",
   "execution_count": 7,
   "metadata": {},
   "outputs": [
    {
     "data": {
      "text/html": [
       "\n",
       "        <div>\n",
       "            <p><b>SparkContext</b></p>\n",
       "\n",
       "            <p><a href=\"http://Matheus-PC:4041\">Spark UI</a></p>\n",
       "\n",
       "            <dl>\n",
       "              <dt>Version</dt>\n",
       "                <dd><code>v2.4.2</code></dd>\n",
       "              <dt>Master</dt>\n",
       "                <dd><code>local[*]</code></dd>\n",
       "              <dt>AppName</dt>\n",
       "                <dd><code>PySparkShell</code></dd>\n",
       "            </dl>\n",
       "        </div>\n",
       "        "
      ],
      "text/plain": [
       "<SparkContext master=local[*] appName=PySparkShell>"
      ]
     },
     "execution_count": 7,
     "metadata": {},
     "output_type": "execute_result"
    }
   ],
   "source": [
    "# Spark Context\n",
    "# sc = SparkContext()\n",
    "sc"
   ]
  },
  {
   "cell_type": "code",
   "execution_count": 6,
   "metadata": {},
   "outputs": [
    {
     "data": {
      "text/html": [
       "\n",
       "            <div>\n",
       "                <p><b>SparkSession - hive</b></p>\n",
       "                \n",
       "        <div>\n",
       "            <p><b>SparkContext</b></p>\n",
       "\n",
       "            <p><a href=\"http://Matheus-PC:4041\">Spark UI</a></p>\n",
       "\n",
       "            <dl>\n",
       "              <dt>Version</dt>\n",
       "                <dd><code>v2.4.2</code></dd>\n",
       "              <dt>Master</dt>\n",
       "                <dd><code>local[*]</code></dd>\n",
       "              <dt>AppName</dt>\n",
       "                <dd><code>PySparkShell</code></dd>\n",
       "            </dl>\n",
       "        </div>\n",
       "        \n",
       "            </div>\n",
       "        "
      ],
      "text/plain": [
       "<pyspark.sql.session.SparkSession at 0x28b44ccfc48>"
      ]
     },
     "execution_count": 6,
     "metadata": {},
     "output_type": "execute_result"
    }
   ],
   "source": [
    "# Spark Session\n",
    "spark = SparkSession(sc)\n",
    "spark"
   ]
  },
  {
   "cell_type": "markdown",
   "metadata": {},
   "source": [
    "## Dataset"
   ]
  },
  {
   "cell_type": "code",
   "execution_count": 18,
   "metadata": {},
   "outputs": [
    {
     "data": {
      "text/plain": [
       "['User_Gender,User_Age,Bike,Station_Rental,Date_Rental,Hour_Rental,Station_Arrival,Date_Arrival,Hour_Arrival',\n",
       " 'M,44,4357,442,1/2/2020,0:00:38,116,1/2/2020,0:35:17',\n",
       " 'M,22,12083,66,1/2/2020,0:00:53,37,1/2/2020,0:06:23',\n",
       " 'M,29,11562,331,1/2/2020,0:00:55,341,1/2/2020,0:26:47',\n",
       " 'M,27,10206,164,1/2/2020,0:01:18,35,1/2/2020,0:16:51']"
      ]
     },
     "execution_count": 18,
     "metadata": {},
     "output_type": "execute_result"
    }
   ],
   "source": [
    "# Load dataset\n",
    "rides_rdd = sc.textFile('data/bike_rentals.csv', use_unicode=True)\n",
    "rides_rdd.take(5)"
   ]
  },
  {
   "cell_type": "code",
   "execution_count": 20,
   "metadata": {},
   "outputs": [],
   "source": [
    "# Function to covert string days and hours into datetime\n",
    "def convert_date(date, time):\n",
    "    from datetime import datetime\n",
    "    return datetime.strptime(date + ' ' + time, '%d/%m/%Y %H:%M:%S')"
   ]
  },
  {
   "cell_type": "code",
   "execution_count": 21,
   "metadata": {},
   "outputs": [],
   "source": [
    "# Function to create age range\n",
    "def convert_age_range(age):\n",
    "    if age <= 17:\n",
    "        return '00-17'\n",
    "    elif age >= 18 and age <= 34:\n",
    "        return '18-34'\n",
    "    elif age >= 35 and age <= 44:\n",
    "        return '35-44'\n",
    "    elif age >= 45 and age <= 54:\n",
    "        return '45-54'\n",
    "    elif age >= 55 and age <= 64:\n",
    "        return '55-64'\n",
    "    else:\n",
    "        return '65+'"
   ]
  },
  {
   "cell_type": "code",
   "execution_count": 26,
   "metadata": {},
   "outputs": [],
   "source": [
    "# Function to clean data\n",
    "def clean_data(part_id, list_of_records):\n",
    "    if part_id == 0: \n",
    "        next(list_of_records) \n",
    "    import csv\n",
    "    reader = csv.reader(list_of_records)\n",
    "    for row in reader:\n",
    "        gender = row[0]\n",
    "        age_range = convert_age_range(int(row[1]))\n",
    "        bike_id = int(row[2])\n",
    "        station_start = row[3]\n",
    "        datetime_start = convert_date(row[4], row[5])\n",
    "        station_end = row[6]\n",
    "        datetime_end = convert_date(row[7], row[8])\n",
    "        yield (bike_id, gender, age_range, station_start, station_end, datetime_start, datetime_end)"
   ]
  },
  {
   "cell_type": "code",
   "execution_count": 29,
   "metadata": {},
   "outputs": [
    {
     "data": {
      "text/plain": [
       "[(4357,\n",
       "  'M',\n",
       "  '35-44',\n",
       "  '442',\n",
       "  '116',\n",
       "  datetime.datetime(2020, 2, 1, 0, 0, 38),\n",
       "  datetime.datetime(2020, 2, 1, 0, 35, 17)),\n",
       " (12083,\n",
       "  'M',\n",
       "  '18-34',\n",
       "  '66',\n",
       "  '37',\n",
       "  datetime.datetime(2020, 2, 1, 0, 0, 53),\n",
       "  datetime.datetime(2020, 2, 1, 0, 6, 23)),\n",
       " (11562,\n",
       "  'M',\n",
       "  '18-34',\n",
       "  '331',\n",
       "  '341',\n",
       "  datetime.datetime(2020, 2, 1, 0, 0, 55),\n",
       "  datetime.datetime(2020, 2, 1, 0, 26, 47))]"
      ]
     },
     "execution_count": 29,
     "metadata": {},
     "output_type": "execute_result"
    }
   ],
   "source": [
    "# Now clean the RDD using the above functions\n",
    "rides_clean = rides_rdd.mapPartitionsWithIndex(clean_data).cache()\n",
    "rides_clean.take(3)"
   ]
  },
  {
   "cell_type": "markdown",
   "metadata": {},
   "source": [
    "## 1. What are the top 5 stations with the most bicycles rented?"
   ]
  },
  {
   "cell_type": "code",
   "execution_count": 60,
   "metadata": {},
   "outputs": [
    {
     "data": {
      "text/plain": [
       "[('442', 1), ('66', 1), ('331', 1)]"
      ]
     },
     "execution_count": 60,
     "metadata": {},
     "output_type": "execute_result"
    }
   ],
   "source": [
    "# First map values assigning a 1 count each time a bike was rented from a station\n",
    "q1_step1 = rides_clean.map(lambda x: (x[3], 1))\n",
    "q1_step1.take(3)"
   ]
  },
  {
   "cell_type": "code",
   "execution_count": 61,
   "metadata": {},
   "outputs": [
    {
     "data": {
      "text/plain": [
       "[('442', 365), ('66', 2548), ('331', 989)]"
      ]
     },
     "execution_count": 61,
     "metadata": {},
     "output_type": "execute_result"
    }
   ],
   "source": [
    "# Then group by key and count the number of rentals\n",
    "q1_step2 = q1_step1.reduceByKey(lambda a,b: a+b)\n",
    "q1_step2.take(3)"
   ]
  },
  {
   "cell_type": "code",
   "execution_count": 63,
   "metadata": {},
   "outputs": [
    {
     "data": {
      "text/plain": [
       "[('1', 6311), ('27', 6241), ('271', 5265), ('64', 4834), ('41', 4633)]"
      ]
     },
     "execution_count": 63,
     "metadata": {},
     "output_type": "execute_result"
    }
   ],
   "source": [
    "# Then extract the top 5\n",
    "q1_step3 = q1_step2.top(5, key=lambda x: x[1])\n",
    "q1_step3"
   ]
  },
  {
   "cell_type": "code",
   "execution_count": 133,
   "metadata": {},
   "outputs": [
    {
     "name": "stdout",
     "output_type": "stream",
     "text": [
      "Top 5 Stations:\n",
      "\n",
      "Station:   1  |  Number of Rentals:  6311\n",
      "Station:  27  |  Number of Rentals:  6241\n",
      "Station: 271  |  Number of Rentals:  5265\n",
      "Station:  64  |  Number of Rentals:  4834\n",
      "Station:  41  |  Number of Rentals:  4633\n"
     ]
    }
   ],
   "source": [
    "# Then print results\n",
    "print('Top 5 Stations:')\n",
    "print()\n",
    "for entry in q1_step3:\n",
    "    print(f'Station: {int(entry[0]):3d}  |  Number of Rentals: {int(entry[1]):5d}')"
   ]
  },
  {
   "cell_type": "markdown",
   "metadata": {},
   "source": [
    "## 2. Whare are the top 5 routes based on initial and final stations, and their respective average bicycle rental durations?"
   ]
  },
  {
   "cell_type": "code",
   "execution_count": 73,
   "metadata": {},
   "outputs": [
    {
     "data": {
      "text/plain": [
       "[(('442', '116'), datetime.timedelta(seconds=2079)),\n",
       " (('66', '37'), datetime.timedelta(seconds=330)),\n",
       " (('331', '341'), datetime.timedelta(seconds=1552))]"
      ]
     },
     "execution_count": 73,
     "metadata": {},
     "output_type": "execute_result"
    }
   ],
   "source": [
    "# For each ride create a start_station/end_station tutple and calculate ride time\n",
    "q2_step1 = rides_clean.map(lambda x: ((x[3],x[4]), x[6]-x[5]))\n",
    "q2_step1.take(3)"
   ]
  },
  {
   "cell_type": "code",
   "execution_count": 74,
   "metadata": {},
   "outputs": [
    {
     "data": {
      "text/plain": [
       "[(('442', '116'), (2079.0, 1)),\n",
       " (('66', '37'), (330.0, 1)),\n",
       " (('331', '341'), (1552.0, 1))]"
      ]
     },
     "execution_count": 74,
     "metadata": {},
     "output_type": "execute_result"
    }
   ],
   "source": [
    "# Then add a 1 to indicate to help tally the rides between station tuples\n",
    "q2_step2 = q2_step1.mapValues(lambda x: (x.total_seconds(), 1))\n",
    "q2_step2.take(3)"
   ]
  },
  {
   "cell_type": "code",
   "execution_count": 75,
   "metadata": {},
   "outputs": [
    {
     "data": {
      "text/plain": [
       "[(('442', '116'), (4336.0, 2)),\n",
       " (('331', '341'), (3844.0, 4)),\n",
       " (('120', '47'), (7168.0, 14))]"
      ]
     },
     "execution_count": 75,
     "metadata": {},
     "output_type": "execute_result"
    }
   ],
   "source": [
    "# Reduce by key, adding up travel times and number of rentals\n",
    "q2_step3 = q2_step2.reduceByKey(lambda x, y: ((x[0]+y[0]), x[1]+y[1]))\n",
    "q2_step3.take(3)"
   ]
  },
  {
   "cell_type": "code",
   "execution_count": 77,
   "metadata": {},
   "outputs": [
    {
     "data": {
      "text/plain": [
       "[(('442', '116'), (2168.0, 2)),\n",
       " (('331', '341'), (961.0, 4)),\n",
       " (('120', '47'), (512.0, 14))]"
      ]
     },
     "execution_count": 77,
     "metadata": {},
     "output_type": "execute_result"
    }
   ],
   "source": [
    "# Divide total travel time per number of rentals\n",
    "q2_step4 = q2_step3.mapValues(lambda x: (x[0] / x[1], x[1]))\n",
    "q2_step4.take(3)"
   ]
  },
  {
   "cell_type": "code",
   "execution_count": 79,
   "metadata": {},
   "outputs": [
    {
     "data": {
      "text/plain": [
       "[(('33', '33'), (1849.6968085106382, 376)),\n",
       " (('18', '1'), (334.94984326018806, 319)),\n",
       " (('449', '449'), (1038.6611842105262, 304)),\n",
       " (('211', '217'), (212.5181518151815, 303)),\n",
       " (('208', '206'), (548.6308724832214, 298))]"
      ]
     },
     "execution_count": 79,
     "metadata": {},
     "output_type": "execute_result"
    }
   ],
   "source": [
    "# Extract top 5\n",
    "q2_step5 = q2_step4.top(5, lambda x: x[1][1])\n",
    "q2_step5"
   ]
  },
  {
   "cell_type": "code",
   "execution_count": 132,
   "metadata": {},
   "outputs": [
    {
     "name": "stdout",
     "output_type": "stream",
     "text": [
      "Top 5 Routes:\n",
      "\n",
      "Start Station:  33  |  End Station:  33  |  Bikes Rented: 376  |  Average Duration: 30.82 minutes\n",
      "Start Station:  18  |  End Station:   1  |  Bikes Rented: 319  |  Average Duration:  5.57 minutes\n",
      "Start Station: 449  |  End Station: 449  |  Bikes Rented: 304  |  Average Duration: 17.30 minutes\n",
      "Start Station: 211  |  End Station: 217  |  Bikes Rented: 303  |  Average Duration:  3.53 minutes\n",
      "Start Station: 208  |  End Station: 206  |  Bikes Rented: 298  |  Average Duration:  9.13 minutes\n"
     ]
    }
   ],
   "source": [
    "# Print results\n",
    "print('Top 5 Routes:')\n",
    "print()\n",
    "for entry in q2_step5:\n",
    "    print(f'Start Station: {int(entry[0][0]):3d}  |  End Station: {int(entry[0][1]):3d}  |  Bikes Rented: {int(entry[1][1]):3d}  |  Average Duration: {int(entry[1][0])/60:5.2f} minutes')"
   ]
  },
  {
   "cell_type": "markdown",
   "metadata": {},
   "source": [
    "## 3. Who rents the most bicycles, men or women? For how long does each group rent bicycles?"
   ]
  },
  {
   "cell_type": "code",
   "execution_count": 102,
   "metadata": {},
   "outputs": [
    {
     "data": {
      "text/plain": [
       "[('M', datetime.timedelta(seconds=2079)),\n",
       " ('M', datetime.timedelta(seconds=330)),\n",
       " ('M', datetime.timedelta(seconds=1552))]"
      ]
     },
     "execution_count": 102,
     "metadata": {},
     "output_type": "execute_result"
    }
   ],
   "source": [
    "# For each entry take the gender and rental duration\n",
    "q3_step1 = rides_clean.map(lambda x: (x[1], x[6]-x[5]))\n",
    "q3_step1.take(3)"
   ]
  },
  {
   "cell_type": "code",
   "execution_count": 94,
   "metadata": {},
   "outputs": [
    {
     "data": {
      "text/plain": [
       "[('M', (2079.0, 1)), ('M', (330.0, 1)), ('M', (1552.0, 1))]"
      ]
     },
     "execution_count": 94,
     "metadata": {},
     "output_type": "execute_result"
    }
   ],
   "source": [
    "# Then add a 1 to help calculate average times per gender\n",
    "q3_step2 = q3_step1.mapValues(lambda x: (x.total_seconds(), 1))\n",
    "q3_step2.take(3)"
   ]
  },
  {
   "cell_type": "code",
   "execution_count": 95,
   "metadata": {},
   "outputs": [
    {
     "data": {
      "text/plain": [
       "[('M', (475637791.0, 511103)), ('F', (167059868.0, 175224))]"
      ]
     },
     "execution_count": 95,
     "metadata": {},
     "output_type": "execute_result"
    }
   ],
   "source": [
    "# Reduce by key, summing times and counts\n",
    "q3_step3 = q3_step2.reduceByKey(lambda a, b: ((a[0]+b[0]), a[1]+b[1]))\n",
    "q3_step3.take(3)"
   ]
  },
  {
   "cell_type": "code",
   "execution_count": 96,
   "metadata": {},
   "outputs": [
    {
     "data": {
      "text/plain": [
       "[('M', (930.6104464266498, 511103)), ('F', (953.4074555996896, 175224))]"
      ]
     },
     "execution_count": 96,
     "metadata": {},
     "output_type": "execute_result"
    }
   ],
   "source": [
    "# Calculate average rental duration per gender\n",
    "q3_step4 = q3_step3.mapValues(lambda x: (x[0] / x[1], x[1]))\n",
    "q3_step4.take(3)"
   ]
  },
  {
   "cell_type": "code",
   "execution_count": 131,
   "metadata": {},
   "outputs": [
    {
     "name": "stdout",
     "output_type": "stream",
     "text": [
      "Number and Duration of Rentals per Gender\n",
      "\n",
      "Gender: M  |  Number of Rentals: 511103  |  Average Duration: 15.51 minutes\n",
      "Gender: F  |  Number of Rentals: 175224  |  Average Duration: 15.89 minutes\n"
     ]
    }
   ],
   "source": [
    "# Print results\n",
    "print('Number and Duration of Rentals per Gender')\n",
    "print()\n",
    "for entry in q3_step4.collect():\n",
    "    print(f'Gender: {entry[0]}  |  Number of Rentals: {int(entry[1][1]):6d}  |  Average Duration: {entry[1][0]/60:5.2f} minutes') "
   ]
  },
  {
   "cell_type": "markdown",
   "metadata": {},
   "source": [
    "## 4. Which age group rents the most bicycles? For how long does each group rent bicycles?"
   ]
  },
  {
   "cell_type": "code",
   "execution_count": 103,
   "metadata": {},
   "outputs": [
    {
     "data": {
      "text/plain": [
       "[('35-44', datetime.timedelta(seconds=2079)),\n",
       " ('18-34', datetime.timedelta(seconds=330)),\n",
       " ('18-34', datetime.timedelta(seconds=1552))]"
      ]
     },
     "execution_count": 103,
     "metadata": {},
     "output_type": "execute_result"
    }
   ],
   "source": [
    "# For each entry take the age group and rental duration\n",
    "q4_step1 = rides_clean.map(lambda x: (x[2], x[6]-x[5]))\n",
    "q4_step1.take(3)"
   ]
  },
  {
   "cell_type": "code",
   "execution_count": 104,
   "metadata": {},
   "outputs": [
    {
     "data": {
      "text/plain": [
       "[('35-44', (2079.0, 1)), ('18-34', (330.0, 1)), ('18-34', (1552.0, 1))]"
      ]
     },
     "execution_count": 104,
     "metadata": {},
     "output_type": "execute_result"
    }
   ],
   "source": [
    "# Then add a 1 to help calculate average times per age group\n",
    "q4_step2 = q4_step1.mapValues(lambda x: (x.total_seconds(), 1))\n",
    "q4_step2.take(3)"
   ]
  },
  {
   "cell_type": "code",
   "execution_count": 105,
   "metadata": {},
   "outputs": [
    {
     "data": {
      "text/plain": [
       "[('35-44', (163918692.0, 168088)),\n",
       " ('18-34', (369201406.0, 393168)),\n",
       " ('45-54', (69205671.0, 78139))]"
      ]
     },
     "execution_count": 105,
     "metadata": {},
     "output_type": "execute_result"
    }
   ],
   "source": [
    "# Reduce by key, summing times and counts\n",
    "q4_step3 = q4_step2.reduceByKey(lambda a, b: ((a[0]+b[0]), a[1]+b[1]))\n",
    "q4_step3.take(3)"
   ]
  },
  {
   "cell_type": "code",
   "execution_count": 106,
   "metadata": {},
   "outputs": [
    {
     "data": {
      "text/plain": [
       "[('35-44', (975.1956832135548, 168088)),\n",
       " ('18-34', (939.0423584828877, 393168)),\n",
       " ('45-54', (885.6738760414133, 78139))]"
      ]
     },
     "execution_count": 106,
     "metadata": {},
     "output_type": "execute_result"
    }
   ],
   "source": [
    "# Calculate average rental duration per age group\n",
    "q4_step4 = q4_step3.mapValues(lambda x: (x[0] / x[1], x[1]))\n",
    "q4_step4.take(3)"
   ]
  },
  {
   "cell_type": "code",
   "execution_count": 114,
   "metadata": {},
   "outputs": [
    {
     "data": {
      "text/plain": [
       "[('18-34', (939.0423584828877, 393168)),\n",
       " ('35-44', (975.1956832135548, 168088)),\n",
       " ('45-54', (885.6738760414133, 78139)),\n",
       " ('55-64', (859.0278830083565, 35900)),\n",
       " ('65+', (874.7642024951026, 9699)),\n",
       " ('00-17', (786.5348837209302, 1333))]"
      ]
     },
     "execution_count": 114,
     "metadata": {},
     "output_type": "execute_result"
    }
   ],
   "source": [
    "# Then order by number of rentals\n",
    "q4_step5 = q4_step4.top(6, key=lambda x: x[1][1])\n",
    "q4_step5"
   ]
  },
  {
   "cell_type": "code",
   "execution_count": 134,
   "metadata": {},
   "outputs": [
    {
     "name": "stdout",
     "output_type": "stream",
     "text": [
      "Number and Duration of Rentals per Age Group\n",
      "\n",
      "Age Group: 18-34  |  Number of Rentals: 393168  |  Average Duration: 15.65 minutes\n",
      "Age Group: 35-44  |  Number of Rentals: 168088  |  Average Duration: 16.25 minutes\n",
      "Age Group: 45-54  |  Number of Rentals:  78139  |  Average Duration: 14.76 minutes\n",
      "Age Group: 55-64  |  Number of Rentals:  35900  |  Average Duration: 14.32 minutes\n",
      "Age Group:   65+  |  Number of Rentals:   9699  |  Average Duration: 14.58 minutes\n",
      "Age Group: 00-17  |  Number of Rentals:   1333  |  Average Duration: 13.11 minutes\n"
     ]
    }
   ],
   "source": [
    "# Print results\n",
    "print('Number and Duration of Rentals per Age Group')\n",
    "print()\n",
    "for entry in q4_step5:\n",
    "    print(f'Age Group: {entry[0]:>5}  |  Number of Rentals: {int(entry[1][1]):>6}  |  Average Duration: {entry[1][0]/60:5.2f} minutes') "
   ]
  },
  {
   "cell_type": "markdown",
   "metadata": {},
   "source": [
    "## 5. What are the most rented bicycles?"
   ]
  },
  {
   "cell_type": "code",
   "execution_count": 118,
   "metadata": {},
   "outputs": [
    {
     "data": {
      "text/plain": [
       "[(4357, datetime.timedelta(seconds=2079)),\n",
       " (12083, datetime.timedelta(seconds=330)),\n",
       " (11562, datetime.timedelta(seconds=1552))]"
      ]
     },
     "execution_count": 118,
     "metadata": {},
     "output_type": "execute_result"
    }
   ],
   "source": [
    "# For each bike create a start_station/end_station tutple and calculate ride time\n",
    "q5_step1 = rides_clean.map(lambda x: (x[0], x[6]-x[5]))\n",
    "q5_step1.take(3)"
   ]
  },
  {
   "cell_type": "code",
   "execution_count": 119,
   "metadata": {},
   "outputs": [
    {
     "data": {
      "text/plain": [
       "[(4357, (2079.0, 1)), (12083, (330.0, 1)), (11562, (1552.0, 1))]"
      ]
     },
     "execution_count": 119,
     "metadata": {},
     "output_type": "execute_result"
    }
   ],
   "source": [
    "# Then add a 1 to indicate to help tally the rides of each bike\n",
    "q5_step2 = q5_step1.mapValues(lambda x: (x.total_seconds(), 1))\n",
    "q5_step2.take(3)"
   ]
  },
  {
   "cell_type": "code",
   "execution_count": 120,
   "metadata": {},
   "outputs": [
    {
     "data": {
      "text/plain": [
       "[(11562, (147542.0, 138)), (10206, (130567.0, 171)), (8458, (119851.0, 147))]"
      ]
     },
     "execution_count": 120,
     "metadata": {},
     "output_type": "execute_result"
    }
   ],
   "source": [
    "# Reduce by key, adding up travel times and number of rentals\n",
    "q5_step3 = q5_step2.reduceByKey(lambda x, y: ((x[0]+y[0]), x[1]+y[1]))\n",
    "q5_step3.take(3)"
   ]
  },
  {
   "cell_type": "code",
   "execution_count": 126,
   "metadata": {},
   "outputs": [
    {
     "data": {
      "text/plain": [
       "[(10771, (91389.0, 217)),\n",
       " (10810, (167146.0, 208)),\n",
       " (7854, (166969.0, 193)),\n",
       " (8463, (197323.0, 190)),\n",
       " (4013, (158476.0, 189))]"
      ]
     },
     "execution_count": 126,
     "metadata": {},
     "output_type": "execute_result"
    }
   ],
   "source": [
    "# Extract top 5\n",
    "q5_step4 = q5_step3.top(5, lambda x: x[1][1])\n",
    "q5_step4"
   ]
  },
  {
   "cell_type": "code",
   "execution_count": 135,
   "metadata": {},
   "outputs": [
    {
     "name": "stdout",
     "output_type": "stream",
     "text": [
      "Top 5 Bicycles:\n",
      "\n",
      "Bicycle ID: 10771  |  Number of Rentals: 217  |  Total Usage Time: 1523.15 minutes\n",
      "Bicycle ID: 10810  |  Number of Rentals: 208  |  Total Usage Time: 2785.77 minutes\n",
      "Bicycle ID:  7854  |  Number of Rentals: 193  |  Total Usage Time: 2782.82 minutes\n",
      "Bicycle ID:  8463  |  Number of Rentals: 190  |  Total Usage Time: 3288.72 minutes\n",
      "Bicycle ID:  4013  |  Number of Rentals: 189  |  Total Usage Time: 2641.27 minutes\n"
     ]
    }
   ],
   "source": [
    "# Print results\n",
    "print('Top 5 Bicycles:')\n",
    "print()\n",
    "for entry in q5_step4:\n",
    "    print(f'Bicycle ID: {int(entry[0]):>5}  |  Number of Rentals: {int(entry[1][1]):3d}  |  Total Usage Time: {int(entry[1][0])/60:5.2f} minutes')"
   ]
  },
  {
   "cell_type": "markdown",
   "metadata": {},
   "source": [
    "<h1 id=\"End\">End<a class=\"anchor-link\" href=\"#End\">&#182;</a></h1>\n",
    "<p>Matheus Schmitz</p>\n",
    "<p><a href=\"https://www.linkedin.com/in/matheusschmitz/\">LinkedIn</a></p>\n",
    "<p><a href=\"https://matheus-schmitz.github.io/\">Github Portfolio</a></p>"
   ]
  }
 ],
 "metadata": {
  "kernelspec": {
   "display_name": "Python 3",
   "language": "python",
   "name": "python3"
  },
  "language_info": {
   "codemirror_mode": {
    "name": "ipython",
    "version": 3
   },
   "file_extension": ".py",
   "mimetype": "text/x-python",
   "name": "python",
   "nbconvert_exporter": "python",
   "pygments_lexer": "ipython3",
   "version": "3.7.7"
  }
 },
 "nbformat": 4,
 "nbformat_minor": 4
}
